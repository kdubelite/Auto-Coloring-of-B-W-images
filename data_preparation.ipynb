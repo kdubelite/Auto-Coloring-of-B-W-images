{
 "cells": [
  {
   "cell_type": "markdown",
   "id": "98e7e9d2",
   "metadata": {},
   "source": [
    "## Scraping Images"
   ]
  },
  {
   "cell_type": "code",
   "execution_count": null,
   "id": "0c6475b8",
   "metadata": {},
   "outputs": [],
   "source": [
    "#Below is the program for scraping the images from the url's provided in the dataset. Make sure to create a separate directory \n",
    "#for storing the images\n",
    "import pandas as pd\n",
    "import requests\n",
    "from bs4 import BeautifulSoup\n",
    "import lxml\n",
    "import time\n",
    "import os"
   ]
  },
  {
   "cell_type": "code",
   "execution_count": null,
   "id": "42a7c471",
   "metadata": {},
   "outputs": [],
   "source": [
    "dataset = pd.read_csv('Dataset/photos.tsv000', sep = '\\t', header = 0)\n",
    "print(dataset.head())\n",
    "photo_url = dataset['photo_url']\n",
    "photo_url = photo_url.tolist()"
   ]
  },
  {
   "cell_type": "code",
   "execution_count": null,
   "id": "94c9d4ce",
   "metadata": {},
   "outputs": [],
   "source": [
    "def photo_downloader(link, count):\n",
    "    url = link\n",
    "    r = requests.get(url, allow_redirects = True)\n",
    "    html_content = r.content\n",
    "    soup = BeautifulSoup(html_content)\n",
    "    url_download = soup.find('a', attrs = {'rel' : 'nofollow', 'title' : 'Download photo'})\n",
    "    if url_download != None:\n",
    "        i_url = url_download['href']\n",
    "        photo_bytes = requests.get(i_url,allow_redirects=True)\n",
    "        with open(f'img{count}.jpg','wb') as photo:\n",
    "            photo.write(photo_bytes.content)\n",
    "        count += 1"
   ]
  },
  {
   "cell_type": "code",
   "execution_count": null,
   "id": "085b8107",
   "metadata": {},
   "outputs": [],
   "source": [
    "%timeit\n",
    "count = 18751\n",
    "for x in range(18751, len(photo_url)):\n",
    "    time.sleep(3)\n",
    "    photo_downloader(photo_url[x], count)\n",
    "    count += 1"
   ]
  },
  {
   "cell_type": "markdown",
   "id": "c4edac84",
   "metadata": {},
   "source": [
    "## Renaming files"
   ]
  },
  {
   "cell_type": "code",
   "execution_count": null,
   "id": "9ccba2bf",
   "metadata": {},
   "outputs": [],
   "source": [
    "#scraped images can be renamed for better readability\n",
    "folder = 'Data\\\\train\\\\Images'\n",
    "i = 0\n",
    "for i, filename in enumerate(os.listdir(folder)):\n",
    "    dest = f'img_{str(i)}.jpg'\n",
    "    src = f'{folder}\\\\{filename}'\n",
    "    dest = f'{folder}\\\\{dest}'\n",
    "    \n",
    "    os.rename(src, dest)"
   ]
  },
  {
   "cell_type": "markdown",
   "id": "0475e0b4",
   "metadata": {},
   "source": [
    "## Splitting training and validation set"
   ]
  },
  {
   "cell_type": "code",
   "execution_count": null,
   "id": "212147ff",
   "metadata": {},
   "outputs": [],
   "source": [
    "#if you want to split your dataset into training and validation set\n",
    "import random\n",
    "import shutil\n",
    "\n",
    "source = 'Data\\\\train\\\\Images'\n",
    "dest = 'Data\\\\validate\\\\Images'\n",
    "files = os.listdir(source)\n",
    "no_of_files = 500 \n",
    "\n",
    "for file_name in random.sample(files, no_of_files):\n",
    "    shutil.move(os.path.join(source, file_name), dest)"
   ]
  }
 ],
 "metadata": {
  "kernelspec": {
   "display_name": "Python 3",
   "language": "python",
   "name": "python3"
  },
  "language_info": {
   "codemirror_mode": {
    "name": "ipython",
    "version": 3
   },
   "file_extension": ".py",
   "mimetype": "text/x-python",
   "name": "python",
   "nbconvert_exporter": "python",
   "pygments_lexer": "ipython3",
   "version": "3.8.8"
  }
 },
 "nbformat": 4,
 "nbformat_minor": 5
}
